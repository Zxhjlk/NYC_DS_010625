{
 "cells": [
  {
   "cell_type": "markdown",
   "metadata": {
    "cell_style": "center",
    "slideshow": {
     "slide_type": "slide"
    }
   },
   "source": [
    "<div style=\"color:white;\n",
    "           display:fill;\n",
    "           border-radius:5px;\n",
    "           background-color:#5642C5;\n",
    "           font-size:200%;\n",
    "           font-family:Arial;letter-spacing:0.5px\">\n",
    "\n",
    "<p width = 20%, style=\"padding: 10px;\n",
    "              color:white;\">\n",
    "Normal Distributions, Sampling Means, Confidence Intervals\n",
    "              \n",
    "</p>\n",
    "</div>\n",
    "\n",
    "Data Science Cohort Live NYC Aug 2024\n",
    "<p>Phase 2</p>\n",
    "<br>\n",
    "<br>\n",
    "\n",
    "<div align = \"right\">\n",
    "<img src=\"Images/flatiron-school-logo.png\" align = \"right\" width=\"200\"/>\n",
    "</div>\n",
    "    \n",
    "    "
   ]
  },
  {
   "cell_type": "markdown",
   "metadata": {
    "slideshow": {
     "slide_type": "slide"
    }
   },
   "source": [
    "#### First a more thorough treatment of Central Limit Thorem\n",
    "- motivated it earlier\n",
    "- more precise statement will help us understand some important things about:\n",
    "    - measurements and sample size effects."
   ]
  },
  {
   "cell_type": "markdown",
   "metadata": {
    "cell_style": "split",
    "slideshow": {
     "slide_type": "slide"
    }
   },
   "source": [
    "- Measuring $X$ (e.g., calls per min at call center) in population:\n",
    "    - follows some population distribution (Poisson)\n",
    "    - population mean $\\mu$\n",
    "    - population variance $\\sigma^2$"
   ]
  },
  {
   "cell_type": "markdown",
   "metadata": {
    "cell_style": "split",
    "slideshow": {
     "slide_type": "fragment"
    }
   },
   "source": [
    "- $X$ is a random variable."
   ]
  },
  {
   "cell_type": "markdown",
   "metadata": {
    "cell_style": "split",
    "slideshow": {
     "slide_type": "fragment"
    }
   },
   "source": [
    "Can rescale/shift:\n",
    "\n",
    "$$ Y = \\frac{X - \\mu}{\\sigma} $$\n",
    "\n",
    "- measures how far individual is from population mean in unit of standard deviation of population "
   ]
  },
  {
   "cell_type": "markdown",
   "metadata": {
    "slideshow": {
     "slide_type": "slide"
    }
   },
   "source": [
    "Rescaled/shift:\n",
    "\n",
    "$$ Y =  \\frac{X - \\mu}{\\sigma} $$\n",
    "\n",
    "- Mean of $Y$ over population is 0.\n",
    "- Standard deviation of $Y$ is 1."
   ]
  },
  {
   "cell_type": "markdown",
   "metadata": {
    "slideshow": {
     "slide_type": "subslide"
    }
   },
   "source": [
    "Take a sample of size N : $X_1, X_2,...,X_N$\n",
    "\n",
    "After shifting by population mean and rescaling by population standard deviation:\n",
    "\n",
    "$$ Y_1,Y_2,...Y_N $$"
   ]
  },
  {
   "cell_type": "markdown",
   "metadata": {
    "slideshow": {
     "slide_type": "subslide"
    }
   },
   "source": [
    "#### A more precise statement of the central limit theorem:\n",
    "\n",
    "If a random variable $Y_i$ has mean 0 and variance 1, then for a sample with sufficiently large $N$:\n",
    "\n",
    "$$ S_N = \\frac{Y_1 + Y_2 + ... Y_N}{\\sqrt{N}} $$\n",
    "\n",
    "is normally distributed with mean 0 and standard deviation 1.\n",
    "\n",
    "E.g. $S_N$ follows the *standardized normal distribution*."
   ]
  },
  {
   "cell_type": "code",
   "execution_count": 43,
   "metadata": {
    "slideshow": {
     "slide_type": "slide"
    }
   },
   "outputs": [],
   "source": [
    "from scipy.stats import poisson\n",
    "import numpy as np\n",
    "import matplotlib.pyplot as plt"
   ]
  },
  {
   "cell_type": "code",
   "execution_count": 48,
   "metadata": {
    "scrolled": true,
    "slideshow": {
     "slide_type": "fragment"
    }
   },
   "outputs": [],
   "source": [
    "average_count_min = 2.5\n",
    "# for Poisson turns out variance is equal to mean\n",
    "var_count_min = average_count_min\n",
    "\n",
    "sample_trial = poisson.rvs(mu = average_count_min, size = 250)"
   ]
  },
  {
   "cell_type": "code",
   "execution_count": 49,
   "metadata": {},
   "outputs": [
    {
     "data": {
      "text/plain": [
       "array([4, 4, 1, 3, 2, 2, 2, 0, 1, 3, 1, 0, 2, 1, 2, 3, 3, 1, 1, 6, 2, 5,\n",
       "       3, 4, 5, 1, 1, 3, 0, 7, 3, 2, 3, 4, 2, 5, 4, 5, 1, 2, 2, 1, 1, 3,\n",
       "       3, 3, 3, 3, 0, 1, 4, 1, 1, 3, 6, 2, 2, 2, 1, 4, 1, 1, 3, 3, 1, 4,\n",
       "       3, 3, 3, 4, 0, 3, 3, 2, 1, 6, 4, 1, 2, 5, 0, 1, 0, 2, 5, 3, 3, 4,\n",
       "       2, 3, 3, 2, 2, 0, 2, 1, 3, 2, 1, 3, 3, 3, 4, 2, 1, 1, 4, 1, 3, 3,\n",
       "       0, 9, 1, 2, 4, 4, 2, 2, 0, 3, 3, 4, 2, 2, 5, 1, 5, 3, 6, 3, 3, 3,\n",
       "       1, 1, 4, 0, 3, 5, 1, 2, 6, 1, 0, 2, 1, 2, 1, 1, 3, 2, 1, 3, 2, 4,\n",
       "       2, 3, 2, 2, 2, 2, 1, 4, 2, 1, 5, 6, 2, 5, 1, 4, 4, 1, 0, 5, 0, 1,\n",
       "       3, 0, 2, 3, 2, 2, 3, 0, 3, 3, 4, 3, 2, 2, 4, 5, 2, 1, 6, 2, 4, 3,\n",
       "       4, 1, 2, 2, 0, 2, 3, 3, 3, 3, 2, 3, 2, 4, 4, 2, 2, 0, 3, 3, 2, 3,\n",
       "       1, 0, 1, 1, 2, 5, 4, 5, 0, 4, 1, 2, 3, 3, 3, 1, 3, 1, 0, 1, 2, 3,\n",
       "       0, 3, 0, 4, 3, 2, 3, 1], dtype=int64)"
      ]
     },
     "execution_count": 49,
     "metadata": {},
     "output_type": "execute_result"
    }
   ],
   "source": [
    "sample_trial"
   ]
  },
  {
   "cell_type": "code",
   "execution_count": 50,
   "metadata": {
    "cell_style": "split",
    "scrolled": true,
    "slideshow": {
     "slide_type": "slide"
    }
   },
   "outputs": [
    {
     "data": {
      "image/png": "[encoded data removed]",
      "text/plain": [
       "<Figure size 640x480 with 1 Axes>"
      ]
     },
     "metadata": {},
     "output_type": "display_data"
    }
   ],
   "source": [
    "plt.hist(sample_trial)\n",
    "plt.xlabel('Calls per min')\n",
    "plt.ylabel(' Histogram Count')\n",
    "plt.title('Poisson: N = 250 Sample')\n",
    "plt.show()"
   ]
  },
  {
   "cell_type": "code",
   "execution_count": 51,
   "metadata": {
    "cell_style": "split",
    "slideshow": {
     "slide_type": "fragment"
    }
   },
   "outputs": [
    {
     "data": {
      "text/plain": [
       "2.448"
      ]
     },
     "execution_count": 51,
     "metadata": {},
     "output_type": "execute_result"
    }
   ],
   "source": [
    "sample_trial.mean()"
   ]
  },
  {
   "cell_type": "code",
   "execution_count": 52,
   "metadata": {
    "cell_style": "split",
    "slideshow": {
     "slide_type": "fragment"
    }
   },
   "outputs": [
    {
     "data": {
      "text/plain": [
       "2.3912959999999996"
      ]
     },
     "execution_count": 52,
     "metadata": {},
     "output_type": "execute_result"
    }
   ],
   "source": [
    "sample_trial.var()"
   ]
  },
  {
   "cell_type": "markdown",
   "metadata": {
    "slideshow": {
     "slide_type": "slide"
    }
   },
   "source": [
    "Now conduct rescaling/shifting of sample:\n",
    "\n",
    "$$ Y = \\frac{X - \\mu}{\\sigma} $$"
   ]
  },
  {
   "cell_type": "code",
   "execution_count": 53,
   "metadata": {
    "slideshow": {
     "slide_type": "subslide"
    }
   },
   "outputs": [],
   "source": [
    "rescaled_sample = (sample_trial - average_count_min)/np.sqrt(var_count_min)"
   ]
  },
  {
   "cell_type": "code",
   "execution_count": 54,
   "metadata": {
    "cell_style": "center",
    "scrolled": false,
    "slideshow": {
     "slide_type": "subslide"
    }
   },
   "outputs": [
    {
     "data": {
      "image/png": "[encoded data removed]",
      "text/plain": [
       "<Figure size 640x480 with 1 Axes>"
      ]
     },
     "metadata": {},
     "output_type": "display_data"
    }
   ],
   "source": [
    "fig,ax = plt.subplots()\n",
    "ax.hist(sample_trial, histtype = 'step', label = 'original' )\n",
    "ax.hist(rescaled_sample, histtype = 'step', label = 'rescaled')\n",
    "plt.ylabel(' Histogram Count')\n",
    "plt.title('Poisson: N = 250 Sample')\n",
    "plt.legend()\n",
    "plt.show()"
   ]
  },
  {
   "cell_type": "code",
   "execution_count": 55,
   "metadata": {
    "cell_style": "center",
    "slideshow": {
     "slide_type": "subslide"
    }
   },
   "outputs": [
    {
     "data": {
      "text/plain": [
       "-0.032887687665751134"
      ]
     },
     "execution_count": 55,
     "metadata": {},
     "output_type": "execute_result"
    }
   ],
   "source": [
    "rescaled_sample.mean()"
   ]
  },
  {
   "cell_type": "code",
   "execution_count": 56,
   "metadata": {
    "slideshow": {
     "slide_type": "subslide"
    }
   },
   "outputs": [
    {
     "data": {
      "text/plain": [
       "0.9780175867539397"
      ]
     },
     "execution_count": 56,
     "metadata": {},
     "output_type": "execute_result"
    }
   ],
   "source": [
    "rescaled_sample.std()"
   ]
  },
  {
   "cell_type": "markdown",
   "metadata": {
    "slideshow": {
     "slide_type": "slide"
    }
   },
   "source": [
    "Now, get sum of rescaled sample divided by square root of number of samples:\n",
    "\n",
    "$$ S_N = \\frac{Y_1 + Y_2 + ... Y_n}{\\sqrt{N}} $$"
   ]
  },
  {
   "cell_type": "markdown",
   "metadata": {
    "slideshow": {
     "slide_type": "slide"
    }
   },
   "source": [
    "But let's do this for many trials of N-samples to build up statistics on $S_N$."
   ]
  },
  {
   "cell_type": "code",
   "execution_count": 58,
   "metadata": {
    "slideshow": {
     "slide_type": "fragment"
    }
   },
   "outputs": [],
   "source": [
    "# standard deviation\n",
    "std_count_min = np.sqrt(var_count_min)\n",
    "# repeat sampling and for each sample subtract by population mean and divide by standard deviation.\n",
    "many_rescaled_sample_trials = [(poisson.rvs(mu = average_count_min, size = 250) - average_count_min)/ std_count_min\n",
    "                      for trial in range(10000)]\n"
   ]
  },
  {
   "cell_type": "markdown",
   "metadata": {
    "slideshow": {
     "slide_type": "slide"
    }
   },
   "source": [
    "Compute the sum of each sample and divide by square root of the number in each sample.\n",
    "\n",
    "- Gets a list of possible $S_N$\n"
   ]
  },
  {
   "cell_type": "code",
   "execution_count": 64,
   "metadata": {
    "slideshow": {
     "slide_type": "fragment"
    }
   },
   "outputs": [
    {
     "data": {
      "text/plain": [
       "array([ 0.28, -0.12, -1.52, ...,  0.16,  1.96, -1.48])"
      ]
     },
     "execution_count": 64,
     "metadata": {},
     "output_type": "execute_result"
    }
   ],
   "source": [
    "# compute the sum of each sample and divide by square root of the number in each sample\n",
    "Sn_array = np.array([np.sum(sample)/np.sqrt(len(sample)) for sample in many_rescaled_sample_trials])\n",
    "Sn_array"
   ]
  },
  {
   "cell_type": "markdown",
   "metadata": {
    "slideshow": {
     "slide_type": "slide"
    }
   },
   "source": [
    "Central limit theorem tells me $S_n$ normally distributed:\n",
    "- Mean 0 \n",
    "- Standard deviation 1\n",
    "\n",
    "Is this true for our data?"
   ]
  },
  {
   "cell_type": "code",
   "execution_count": 65,
   "metadata": {
    "cell_style": "split",
    "scrolled": false,
    "slideshow": {
     "slide_type": "slide"
    }
   },
   "outputs": [
    {
     "data": {
      "image/png": "[encoded data removed]",
      "text/plain": [
       "<Figure size 640x480 with 1 Axes>"
      ]
     },
     "metadata": {},
     "output_type": "display_data"
    }
   ],
   "source": [
    "plt.hist(Sn_array, bins = 20)\n",
    "plt.xlabel('$S_N$')\n",
    "plt.ylabel('Count')\n",
    "plt.title('Distribution of $S_N$')\n",
    "plt.show()"
   ]
  },
  {
   "cell_type": "code",
   "execution_count": 66,
   "metadata": {
    "cell_style": "split",
    "slideshow": {
     "slide_type": "fragment"
    }
   },
   "outputs": [
    {
     "data": {
      "text/plain": [
       "0.010895999999999958"
      ]
     },
     "execution_count": 66,
     "metadata": {},
     "output_type": "execute_result"
    }
   ],
   "source": [
    "Sn_array.mean()"
   ]
  },
  {
   "cell_type": "code",
   "execution_count": 67,
   "metadata": {
    "cell_style": "split",
    "slideshow": {
     "slide_type": "fragment"
    }
   },
   "outputs": [
    {
     "data": {
      "text/plain": [
       "1.004718307379735"
      ]
     },
     "execution_count": 67,
     "metadata": {},
     "output_type": "execute_result"
    }
   ],
   "source": [
    "Sn_array.std()"
   ]
  },
  {
   "cell_type": "markdown",
   "metadata": {
    "cell_style": "split",
    "slideshow": {
     "slide_type": "fragment"
    }
   },
   "source": [
    "We have just seen that:\n",
    "\n",
    "Provided N large enough\n",
    "\n",
    "$$ S_N = \\frac{Y_1 + Y_2 + ... Y_n}{\\sqrt{N}} $$\n",
    "\n",
    "is distributed normal with mean 0, std 1."
   ]
  },
  {
   "cell_type": "markdown",
   "metadata": {
    "cell_style": "split",
    "slideshow": {
     "slide_type": "slide"
    }
   },
   "source": [
    "But a very important situation that's often encountered:\n",
    "\n",
    "- I have $N$ samples of a measurement: the counts per min.\n",
    "\n",
    "- Calculate sample mean (average of $X_i$ in sample)\n",
    "\n",
    "$$ \\bar{X} = \\frac{X_1 + X_2 + ... + X_N}{N}$$\n"
   ]
  },
  {
   "cell_type": "markdown",
   "metadata": {
    "cell_style": "split",
    "slideshow": {
     "slide_type": "fragment"
    }
   },
   "source": [
    "Remember that is $\\bar{X}$ is a random variable:\n",
    "\n",
    "- repeating another N-sample measurement, might yield a different sample mean $\\bar{X}$."
   ]
  },
  {
   "cell_type": "markdown",
   "metadata": {
    "cell_style": "split",
    "slideshow": {
     "slide_type": "slide"
    }
   },
   "source": [
    "How is $\\bar{X}$ distributed?\n",
    "- Answering this question will be important in:\n",
    "     - estimating an unknown population mean based off of a sample mean $\\bar{X}$\n",
    "     - quantifying uncertainty in that population mean.\n",
    "     - hypothesis testing on sample means."
   ]
  },
  {
   "cell_type": "markdown",
   "metadata": {
    "slideshow": {
     "slide_type": "slide"
    }
   },
   "source": [
    "They key is in relating $\\bar{X}$ to $S_N$ from the central limit theorem."
   ]
  },
  {
   "cell_type": "markdown",
   "metadata": {
    "cell_style": "split",
    "slideshow": {
     "slide_type": "fragment"
    }
   },
   "source": [
    "$$ \\bar{X} = \\frac{X_1 + X_2 + ... + X_N}{N}$$"
   ]
  },
  {
   "cell_type": "markdown",
   "metadata": {
    "cell_style": "split",
    "slideshow": {
     "slide_type": "-"
    }
   },
   "source": [
    "$$ S_N = \\frac{Y_1 + Y_2 + ... Y_n}{\\sqrt{N}} $$"
   ]
  },
  {
   "cell_type": "markdown",
   "metadata": {
    "cell_style": "center",
    "slideshow": {
     "slide_type": "slide"
    }
   },
   "source": [
    "$$ S_N = \\frac{Y_1 + Y_2 + ... Y_n}{\\sqrt{N}} $$\n",
    "<br><br>\n",
    "$$ S_N = \\frac{(X_1 - \\mu) + (X_2 - \\mu) + ... (X_N - \\mu)}{\\sigma\\sqrt{N}} $$\n"
   ]
  },
  {
   "cell_type": "markdown",
   "metadata": {
    "cell_style": "split",
    "slideshow": {
     "slide_type": "subslide"
    }
   },
   "source": [
    "$$ S_N = \\frac{(X_1  + X_2  + ... + X_N) - N \\mu }{\\sigma\\sqrt{N}} $$\n",
    "\n",
    "but since:\n",
    "\n",
    "$$ \\bar{X} = \\frac{X_1 + X_2 + ... + X_N}{N}$$"
   ]
  },
  {
   "cell_type": "markdown",
   "metadata": {
    "cell_style": "split",
    "slideshow": {
     "slide_type": "fragment"
    }
   },
   "source": [
    "\n",
    "$$ S_N = \\frac{N \\bar{X} - N \\mu }{\\sigma\\sqrt{N}} $$\n",
    "$$ S_N = \\frac{ \\bar{X} - \\mu }{\\frac{\\sigma}{\\sqrt{N}}} $$"
   ]
  },
  {
   "cell_type": "markdown",
   "metadata": {
    "cell_style": "split",
    "slideshow": {
     "slide_type": "slide"
    }
   },
   "source": [
    "By CLT:\n",
    "\n",
    "$$ S_N = \\frac{ \\bar{X} - \\mu }{\\frac{\\sigma}{\\sqrt{N}}} $$ is normally distributed with mean 0 and std 1."
   ]
  },
  {
   "cell_type": "markdown",
   "metadata": {
    "cell_style": "split",
    "slideshow": {
     "slide_type": "fragment"
    }
   },
   "source": [
    "Doing the reverse scale transformation implies:\n",
    "    \n",
    "- $ \\bar{X} $ is normally distributed:\n",
    "    <center>mean of sample $\\bar{X}$ is population mean </center> $$ \\mu $$\n",
    "    <center> standard deviation is of $\\bar{X}$ is: </center>\n",
    "    $$ \\frac{\\sigma}{\\sqrt{N}} $$"
   ]
  },
  {
   "cell_type": "markdown",
   "metadata": {
    "cell_style": "split",
    "slideshow": {
     "slide_type": "slide"
    }
   },
   "source": [
    "- $ \\bar{X} $ is normally distributed:\n",
    "    <center>mean of sample $\\bar{X}$ is population mean </center> $$ \\mu $$\n",
    "    <center> standard deviation is of $\\bar{X}$ is: </center>\n",
    "    $$ \\frac{\\sigma}{\\sqrt{N}} $$\n",
    "    \n",
    "Remember: $\\sigma$ was **population** standard deviation."
   ]
  },
  {
   "cell_type": "markdown",
   "metadata": {
    "cell_style": "split",
    "slideshow": {
     "slide_type": "slide"
    }
   },
   "source": [
    "**Question** as N goes large\n",
    "\n",
    "- Repeat many samples of size $N$. Get $\\bar{X}$ for each.\n",
    "- What happens to my spread on $\\bar{X}$ as $N$ goes large?"
   ]
  },
  {
   "cell_type": "markdown",
   "metadata": {
    "cell_style": "split"
   },
   "source": [
    "\n",
    "<center> mean of sample $\\bar{X}$ is population mean </center> $$ \\mu $$\n",
    "    <center> standard deviation is of $\\bar{X}$ is: </center>\n",
    "    $$ \\frac{\\sigma}{\\sqrt{N}} $$\n",
    "    "
   ]
  },
  {
   "cell_type": "markdown",
   "metadata": {
    "slideshow": {
     "slide_type": "slide"
    }
   },
   "source": [
    "Let's see this in action:\n",
    "\n",
    "- Counting calls / min at toll center.\n",
    "- Take samples of different sizes.\n",
    "\n",
    "Get distribution of $\\bar{X}$ for different sampling sizes:"
   ]
  },
  {
   "cell_type": "code",
   "execution_count": 68,
   "metadata": {
    "slideshow": {
     "slide_type": "fragment"
    }
   },
   "outputs": [],
   "source": [
    "N_list = [50, 250, 1000]"
   ]
  },
  {
   "cell_type": "markdown",
   "metadata": {
    "slideshow": {
     "slide_type": "slide"
    }
   },
   "source": [
    "Repeat trials for each sample size 10,000 times to build statistics on $\\bar{X}$."
   ]
  },
  {
   "cell_type": "code",
   "execution_count": 69,
   "metadata": {
    "slideshow": {
     "slide_type": "fragment"
    }
   },
   "outputs": [],
   "source": [
    "# construct 10000 trials of N samples.\n",
    "def poisson_trials_Nsamples(avg_count, N_list, num_trials):\n",
    "    \n",
    "    for N in N_list:\n",
    "        \n",
    "        Nsample_trial_list =  [poisson.rvs(mu = average_count_min, size = N).mean() for trials in range(num_trials)]\n",
    "        \n",
    "        \n",
    "        plt.hist(Nsample_trial_list, density = True, histtype = 'step',  label = \"N = \" + str(N))\n",
    "    \n",
    "    plt.axvline(avg_count, c = 'b', linewidth =2, linestyle = '--')\n",
    "    plt.legend()\n",
    "    plt.show()\n",
    "        \n"
   ]
  },
  {
   "cell_type": "markdown",
   "metadata": {
    "slideshow": {
     "slide_type": "slide"
    }
   },
   "source": [
    "- True average call rate: 2.5 calls per minute on average.\n",
    "- Taking samples of various size: "
   ]
  },
  {
   "cell_type": "code",
   "execution_count": 18,
   "metadata": {
    "cell_style": "split",
    "scrolled": false,
    "slideshow": {
     "slide_type": "fragment"
    }
   },
   "outputs": [
    {
     "data": {
      "image/png": "[encoded data removed]",
      "text/plain": [
       "<Figure size 640x480 with 1 Axes>"
      ]
     },
     "metadata": {},
     "output_type": "display_data"
    }
   ],
   "source": [
    "poisson_trials_Nsamples(2.5, N_list, 1000)"
   ]
  },
  {
   "cell_type": "markdown",
   "metadata": {
    "cell_style": "split",
    "slideshow": {
     "slide_type": "fragment"
    }
   },
   "source": [
    "Distribution of sample means gets sharper and sharper around the true population mean!!!\n",
    "\n",
    "- For sample size $N$: \n",
    "    - can now quantify our uncertainty of $\\bar{X}$\n",
    "    - given population mean $\\mu$"
   ]
  },
  {
   "cell_type": "markdown",
   "metadata": {
    "cell_style": "center",
    "slideshow": {
     "slide_type": "subslide"
    }
   },
   "source": [
    "Lends some credence to the idea that:\n",
    "- measuring a sample of $X_i$ with a size N as large as possible\n",
    "- taking its average $\\bar{X}$ will help yield an estimate of $\\mu$ and its spread."
   ]
  },
  {
   "cell_type": "markdown",
   "metadata": {
    "cell_style": "center",
    "slideshow": {
     "slide_type": "slide"
    }
   },
   "source": [
    "**Usually in statistics and measurement/metrology:**\n",
    "\n",
    "- No idea what the population mean $\\mu$ is.\n",
    "- Using sampling to *infer* the unknown population mean $\\mu$.\n",
    "- Want to also know uncertainities in this estimate."
   ]
  },
  {
   "cell_type": "markdown",
   "metadata": {
    "cell_style": "split",
    "slideshow": {
     "slide_type": "subslide"
    }
   },
   "source": [
    "Given a single sample of $N$ measurements:\n",
    "- Get a value of $\\bar{X} = \\bar{X}_0 $.\n",
    "- Given $\\bar{X} = \\bar{X}_0 $:\n",
    "    - $\\bar{X}_0$ is our estimate of $\\mu$.\n",
    "    - Estimating uncertainty in $\\bar{X}$:\n",
    "    - Equivalent to getting uncertainty range of unknown population mean $\\mu$.\n"
   ]
  },
  {
   "cell_type": "markdown",
   "metadata": {
    "cell_style": "split",
    "slideshow": {
     "slide_type": "fragment"
    }
   },
   "source": [
    "<div align = \"center\">\n",
    "<img src=\"Images/sampleinterval.png\" align = \"center\" width=\"800\"/>\n",
    "</div>"
   ]
  },
  {
   "cell_type": "markdown",
   "metadata": {
    "slideshow": {
     "slide_type": "slide"
    }
   },
   "source": [
    "The uncertainty range is often cited in terms of a **confidence interval**."
   ]
  },
  {
   "cell_type": "markdown",
   "metadata": {
    "cell_style": "split",
    "slideshow": {
     "slide_type": "slide"
    }
   },
   "source": [
    "#### The confidence interval is defined with respect to a probability\n",
    "- Confidence interval at 0.95 implies:\n",
    "    - Given sample mean $\\bar{X_0}$.\n",
    "    -  What is region of $\\bar{X}$ assuming $\\bar{X_0}$ is population mean accounting for 95\\% of probability?\n",
    "    - Same as range accounting for 95% of unknown population means."
   ]
  },
  {
   "cell_type": "markdown",
   "metadata": {
    "cell_style": "split",
    "slideshow": {
     "slide_type": "-"
    }
   },
   "source": [
    "<div align = \"center\">\n",
    "<img src=\"Images/confidenceinterval1.png\" align = \"center\" width=\"800\"/>\n",
    "</div>"
   ]
  },
  {
   "cell_type": "markdown",
   "metadata": {
    "slideshow": {
     "slide_type": "slide"
    }
   },
   "source": [
    "Let's do this for a specific example."
   ]
  },
  {
   "cell_type": "code",
   "execution_count": 19,
   "metadata": {
    "slideshow": {
     "slide_type": "skip"
    }
   },
   "outputs": [],
   "source": [
    "N = 100\n",
    "one_sample = poisson.rvs(mu = 2.5, size = N)"
   ]
  },
  {
   "cell_type": "markdown",
   "metadata": {
    "slideshow": {
     "slide_type": "slide"
    }
   },
   "source": [
    "##### N = 100 sample of call center counts/min."
   ]
  },
  {
   "cell_type": "code",
   "execution_count": 70,
   "metadata": {
    "slideshow": {
     "slide_type": "subslide"
    }
   },
   "outputs": [
    {
     "data": {
      "text/plain": [
       "array([2, 4, 3, 5, 2, 6, 3, 6, 2, 1, 2, 5, 3, 2, 3, 1, 4, 2, 1, 1, 2, 2,\n",
       "       5, 1, 2, 5, 5, 1, 3, 0, 2, 1, 0, 3, 3, 1, 2, 2, 4, 1, 0, 8, 3, 6,\n",
       "       0, 1, 2, 1, 2, 6, 2, 2, 2, 2, 0, 4, 2, 4, 1, 0, 4, 1, 0, 2, 2, 2,\n",
       "       3, 3, 3, 2, 1, 2, 2, 2, 3, 3, 5, 1, 1, 3, 4, 3, 3, 2, 1, 3, 4, 5,\n",
       "       2, 0, 4, 0, 1, 1, 1, 2, 5, 3, 3, 1], dtype=int64)"
      ]
     },
     "execution_count": 70,
     "metadata": {},
     "output_type": "execute_result"
    }
   ],
   "source": [
    "one_sample"
   ]
  },
  {
   "cell_type": "code",
   "execution_count": 71,
   "metadata": {
    "scrolled": true,
    "slideshow": {
     "slide_type": "fragment"
    }
   },
   "outputs": [
    {
     "data": {
      "text/plain": [
       "2.44"
      ]
     },
     "execution_count": 71,
     "metadata": {},
     "output_type": "execute_result"
    }
   ],
   "source": [
    "Xbar_0 = one_sample.mean()\n",
    "Xbar_0"
   ]
  },
  {
   "cell_type": "markdown",
   "metadata": {
    "cell_style": "center",
    "slideshow": {
     "slide_type": "slide"
    }
   },
   "source": [
    "Provide $N$ is large enough: \n",
    "CLT give us ability to make some statements about range!\n",
    "- sample standard deviation $s \\approx \\sigma$ (only true for large enough N > 30)\n",
    "- $\\bar{X}$ would then be distributed normally with mean $\\bar{X}_0$ and std $\\frac{s}{\\sqrt{N}}$"
   ]
  },
  {
   "cell_type": "markdown",
   "metadata": {
    "slideshow": {
     "slide_type": "slide"
    }
   },
   "source": [
    "To get 95% confidence interval for normal:\n",
    "\n",
    "$$ \\bar{X_0} \\pm 1.96\\frac{\\sigma}{\\sqrt{N}} $$\n",
    "\n",
    "Where we just looked up $z* \\approx 1.96$ from a table.\n",
    "\n",
    "Let's see."
   ]
  },
  {
   "cell_type": "code",
   "execution_count": 22,
   "metadata": {
    "slideshow": {
     "slide_type": "fragment"
    }
   },
   "outputs": [
    {
     "data": {
      "text/plain": [
       "0.318848086712152"
      ]
     },
     "execution_count": 22,
     "metadata": {},
     "output_type": "execute_result"
    }
   ],
   "source": [
    "sigma_N = one_sample.std()/(np.sqrt(N))\n",
    "half_range = 1.96*sigma_N\n",
    "half_range"
   ]
  },
  {
   "cell_type": "code",
   "execution_count": 23,
   "metadata": {},
   "outputs": [
    {
     "data": {
      "text/plain": [
       "(2.121151913287848, 2.758848086712152)"
      ]
     },
     "execution_count": 23,
     "metadata": {},
     "output_type": "execute_result"
    }
   ],
   "source": [
    "(Xbar_0 - half_range, Xbar_0 + half_range)"
   ]
  },
  {
   "cell_type": "code",
   "execution_count": 24,
   "metadata": {
    "cell_style": "center",
    "scrolled": false,
    "slideshow": {
     "slide_type": "subslide"
    }
   },
   "outputs": [
    {
     "data": {
      "image/png": "[encoded data removed]",
      "text/plain": [
       "<Figure size 640x480 with 1 Axes>"
      ]
     },
     "metadata": {},
     "output_type": "display_data"
    }
   ],
   "source": [
    "from scipy.stats import norm \n",
    "x_vals = np.arange(1.0, 3.5, .025)\n",
    "\n",
    "y_vals_gauss = norm.pdf(x_vals, loc = Xbar_0, scale = sigma_N)\n",
    "plt.fill_between(x_vals, y_vals_gauss, where = (Xbar_0 - half_range < x_vals) & (Xbar_0 + half_range > x_vals), alpha = 0.5, color='r')\n",
    "plt.axvline(Xbar_0)\n",
    "plt.annotate(\"$\\overline{X}_0$\", c ='b', xy = (2.25, 0.8), fontsize = 20)\n",
    "plt.plot(x_vals, y_vals_gauss, c = 'b')\n",
    "\n",
    "plt.show()\n"
   ]
  },
  {
   "cell_type": "markdown",
   "metadata": {
    "slideshow": {
     "slide_type": "slide"
    }
   },
   "source": [
    "Probability that repeated samples will have $\\bar{X}$ falling with this range: \n",
    "- Can calculate this using the CDF"
   ]
  },
  {
   "cell_type": "code",
   "execution_count": 25,
   "metadata": {
    "slideshow": {
     "slide_type": "fragment"
    }
   },
   "outputs": [
    {
     "data": {
      "text/plain": [
       "0.9500042097035593"
      ]
     },
     "execution_count": 25,
     "metadata": {},
     "output_type": "execute_result"
    }
   ],
   "source": [
    "p2 = norm.cdf(Xbar_0 + half_range, loc = Xbar_0, scale = sigma_N)\n",
    "p1 = norm.cdf(Xbar_0- half_range , loc = Xbar_0, scale = sigma_N)\n",
    "\n",
    "p_in_95CI = p2 - p1\n",
    "\n",
    "p_in_95CI"
   ]
  },
  {
   "cell_type": "markdown",
   "metadata": {
    "slideshow": {
     "slide_type": "slide"
    }
   },
   "source": [
    "Thus my measured estimate of the population mean is  mean $\\bar{X}_0 $:"
   ]
  },
  {
   "cell_type": "code",
   "execution_count": 26,
   "metadata": {
    "slideshow": {
     "slide_type": "fragment"
    }
   },
   "outputs": [
    {
     "data": {
      "text/plain": [
       "2.44"
      ]
     },
     "execution_count": 26,
     "metadata": {},
     "output_type": "execute_result"
    }
   ],
   "source": [
    "Xbar_0"
   ]
  },
  {
   "cell_type": "markdown",
   "metadata": {
    "slideshow": {
     "slide_type": "fragment"
    }
   },
   "source": [
    "With a range of uncertainty in $\\bar{X}$ (and thus population mean)"
   ]
  },
  {
   "cell_type": "code",
   "execution_count": 27,
   "metadata": {
    "slideshow": {
     "slide_type": "fragment"
    }
   },
   "outputs": [
    {
     "data": {
      "text/plain": [
       "(2.121151913287848, 2.758848086712152)"
      ]
     },
     "execution_count": 27,
     "metadata": {},
     "output_type": "execute_result"
    }
   ],
   "source": [
    "(Xbar_0 - half_range, Xbar_0 + half_range)"
   ]
  },
  {
   "cell_type": "markdown",
   "metadata": {
    "slideshow": {
     "slide_type": "fragment"
    }
   },
   "source": [
    "at the 95\\% confidence interval.\n",
    "\n",
    "95% confidence that true population mean lies in this interval."
   ]
  },
  {
   "cell_type": "markdown",
   "metadata": {
    "slideshow": {
     "slide_type": "slide"
    }
   },
   "source": [
    "Can also report results of confidence intervals at different levels of confidence:\n",
    "\n",
    "\n",
    "Higher levels of confidence mean larger ranges of $\\bar{X}$.\n",
    "\n",
    "\n",
    "- e.g. 99\\% confidence interval:\n",
    "$$ \\bar{X_0} \\pm 2.576\\frac{\\sigma}{\\sqrt{N}} $$\n",
    "- 99.5\\% confidence interval:\n",
    "$$ \\bar{X_0} \\pm 2.807\\frac{\\sigma}{\\sqrt{N}} $$\n",
    "- 99.9% confidence interval:\n",
    "$$ \\bar{X_0} \\pm 3.291\\frac{\\sigma}{\\sqrt{N}} $$\n"
   ]
  },
  {
   "cell_type": "markdown",
   "metadata": {
    "slideshow": {
     "slide_type": "fragment"
    }
   },
   "source": [
    "What happens to my confidence intervals as N increases?"
   ]
  },
  {
   "cell_type": "markdown",
   "metadata": {
    "slideshow": {
     "slide_type": "slide"
    }
   },
   "source": [
    "From a finite sample:\n",
    "\n",
    "- We estimated average counts/min at call center\n",
    "- Also estimated range of values average counts/min could lie in attached to a certain confidence level."
   ]
  },
  {
   "cell_type": "markdown",
   "metadata": {
    "cell_style": "center",
    "slideshow": {
     "slide_type": "slide"
    }
   },
   "source": [
    "We looked up $z*$ for a given confidence level in a table:\n",
    "\n",
    "- But can also calculate this directly using some math and Scipy."
   ]
  },
  {
   "cell_type": "markdown",
   "metadata": {
    "slideshow": {
     "slide_type": "slide"
    }
   },
   "source": [
    "The first step in the math intuition:\n",
    "\n",
    "<div align = \"center\">\n",
    "<img src=\"Images/confidenceinterval2.png\" align = \"center\" width=\"500\"/>\n",
    "</div>"
   ]
  },
  {
   "cell_type": "markdown",
   "metadata": {
    "slideshow": {
     "slide_type": "slide"
    }
   },
   "source": [
    "The second step in the math:\n",
    "\n",
    "<div align = \"center\">\n",
    "<img src=\"Images/confidencezstar.png\" align = \"center\" width=\"500\"/>\n",
    "</div>"
   ]
  },
  {
   "cell_type": "markdown",
   "metadata": {
    "slideshow": {
     "slide_type": "slide"
    }
   },
   "source": [
    "The ppf for the normal distribution can be calculated using scipy.\n",
    "- norm.ppf(probability) outputs value $z^*$ for which P(z<z*) = probability\n",
    "- given $z$ is governed by the standardize normal distribution (mean 0, std 1)"
   ]
  },
  {
   "cell_type": "code",
   "execution_count": 72,
   "metadata": {
    "slideshow": {
     "slide_type": "fragment"
    }
   },
   "outputs": [],
   "source": [
    "from scipy.stats import norm"
   ]
  },
  {
   "cell_type": "code",
   "execution_count": 76,
   "metadata": {
    "cell_style": "split",
    "slideshow": {
     "slide_type": "slide"
    }
   },
   "outputs": [],
   "source": [
    "c = 0.999999 # confidence level\n",
    "\n",
    "# this is the probability \n",
    "# we input in ppf\n",
    "half_alpha = (1 - c)/2 "
   ]
  },
  {
   "cell_type": "code",
   "execution_count": 77,
   "metadata": {
    "cell_style": "split",
    "slideshow": {
     "slide_type": "fragment"
    }
   },
   "outputs": [
    {
     "data": {
      "text/plain": [
       "-4.8916384756929325"
      ]
     },
     "execution_count": 77,
     "metadata": {},
     "output_type": "execute_result"
    }
   ],
   "source": [
    "norm.ppf(half_alpha)"
   ]
  },
  {
   "cell_type": "code",
   "execution_count": 78,
   "metadata": {
    "cell_style": "split",
    "slideshow": {
     "slide_type": "fragment"
    }
   },
   "outputs": [
    {
     "data": {
      "text/plain": [
       "4.8916384756929325"
      ]
     },
     "execution_count": 78,
     "metadata": {},
     "output_type": "execute_result"
    }
   ],
   "source": [
    "zstar_95 = np.abs(norm.ppf(half_alpha))\n",
    "zstar_95"
   ]
  },
  {
   "cell_type": "markdown",
   "metadata": {
    "cell_style": "center",
    "slideshow": {
     "slide_type": "slide"
    }
   },
   "source": [
    "Confidence interval range is :"
   ]
  },
  {
   "cell_type": "code",
   "execution_count": 79,
   "metadata": {
    "cell_style": "split",
    "slideshow": {
     "slide_type": "fragment"
    }
   },
   "outputs": [
    {
     "name": "stdout",
     "output_type": "stream",
     "text": [
      "(1.6442400158866126, 3.235759984113387)\n"
     ]
    }
   ],
   "source": [
    "ci = (Xbar_0 - zstar_95*(sigma_N), \n",
    "      Xbar_0 + zstar_95*(sigma_N))\n",
    "\n",
    "print(ci)"
   ]
  },
  {
   "cell_type": "code",
   "execution_count": 33,
   "metadata": {
    "cell_style": "split",
    "slideshow": {
     "slide_type": "fragment"
    }
   },
   "outputs": [
    {
     "data": {
      "text/plain": [
       "(2.121151913287848, 2.758848086712152)"
      ]
     },
     "execution_count": 33,
     "metadata": {},
     "output_type": "execute_result"
    }
   ],
   "source": [
    "# From lookup table:\n",
    "(Xbar_0 - half_range, Xbar_0 + half_range)"
   ]
  },
  {
   "cell_type": "markdown",
   "metadata": {
    "cell_style": "center",
    "slideshow": {
     "slide_type": "slide"
    }
   },
   "source": [
    "Can also get the confidence interval directly via the .interval() method:\n",
    "- Fast, clean way to do it."
   ]
  },
  {
   "cell_type": "markdown",
   "metadata": {
    "cell_style": "split",
    "slideshow": {
     "slide_type": "fragment"
    }
   },
   "source": [
    "- first argument is confidence level\n",
    "- loc argument will be the sample mean\n",
    "- the scale will be $$ \\sigma_N = \\frac{\\sigma}{\\sqrt{N}} \\approx \\frac{s}{\\sqrt{N}}$$."
   ]
  },
  {
   "cell_type": "code",
   "execution_count": 80,
   "metadata": {
    "cell_style": "split",
    "slideshow": {
     "slide_type": "subslide"
    }
   },
   "outputs": [
    {
     "data": {
      "text/plain": [
       "(2.121157772196264, 2.758842227803736)"
      ]
     },
     "execution_count": 80,
     "metadata": {},
     "output_type": "execute_result"
    }
   ],
   "source": [
    "from scipy.stats import norm\n",
    "\n",
    "c = 0.95 # confidence level\n",
    "#(95% chance population mean lies in interval)\n",
    "norm.interval(c, loc = Xbar_0, scale = sigma_N)"
   ]
  },
  {
   "cell_type": "code",
   "execution_count": 84,
   "metadata": {},
   "outputs": [
    {
     "data": {
      "text/plain": [
       "array([2.12115777, 2.75884223])"
      ]
     },
     "execution_count": 84,
     "metadata": {},
     "output_type": "execute_result"
    }
   ],
   "source": [
    "np.array(norm.interval(c))*sigma_N + Xbar_0"
   ]
  },
  {
   "cell_type": "markdown",
   "metadata": {
    "cell_style": "split",
    "slideshow": {
     "slide_type": "fragment"
    }
   },
   "source": [
    "Our calculation from before with N = 100 samples"
   ]
  },
  {
   "cell_type": "code",
   "execution_count": 35,
   "metadata": {
    "cell_style": "split",
    "slideshow": {
     "slide_type": "fragment"
    }
   },
   "outputs": [
    {
     "data": {
      "text/plain": [
       "(2.121151913287848, 2.758848086712152)"
      ]
     },
     "execution_count": 35,
     "metadata": {},
     "output_type": "execute_result"
    }
   ],
   "source": [
    "(Xbar_0 - half_range, Xbar_0 + half_range)"
   ]
  },
  {
   "cell_type": "markdown",
   "metadata": {
    "slideshow": {
     "slide_type": "slide"
    }
   },
   "source": [
    "#### Calculate confidence interval at the 0.995 confidence level."
   ]
  },
  {
   "cell_type": "code",
   "execution_count": 36,
   "metadata": {
    "slideshow": {
     "slide_type": "skip"
    }
   },
   "outputs": [],
   "source": [
    "N_2 = 200\n",
    "another_sample = poisson.rvs(mu = 3.5, size = N_2)"
   ]
  },
  {
   "cell_type": "markdown",
   "metadata": {
    "slideshow": {
     "slide_type": "slide"
    }
   },
   "source": [
    "You have a sample of call counts / min from a different call center:\n",
    "\n",
    "- The sample size N = 200\n",
    "- We also can calculate the sample mean and standard deviation."
   ]
  },
  {
   "cell_type": "code",
   "execution_count": 37,
   "metadata": {
    "cell_style": "center",
    "scrolled": true,
    "slideshow": {
     "slide_type": "subslide"
    }
   },
   "outputs": [
    {
     "data": {
      "text/plain": [
       "array([5, 5, 2, 6, 3, 4, 3, 2, 5, 5, 5, 7, 3, 7, 5, 6, 3, 2, 4, 5, 4, 6,\n",
       "       3, 4, 4, 8, 6, 5, 6, 2, 7, 3, 4, 3, 3, 2, 6, 2, 3, 3, 3, 3, 6, 6,\n",
       "       1, 4, 2, 2, 6, 3, 1, 4, 3, 1, 1, 6, 1, 2, 5, 1, 1, 1, 3, 1, 5, 0,\n",
       "       6, 4, 3, 4, 2, 4, 4, 2, 1, 2, 1, 4, 1, 3, 6, 0, 3, 2, 2, 2, 1, 2,\n",
       "       2, 4, 4, 4, 4, 6, 2, 6, 2, 4, 2, 5, 2, 7, 5, 1, 2, 4, 3, 5, 2, 4,\n",
       "       7, 4, 5, 5, 8, 2, 5, 5, 4, 4, 2, 4, 2, 2, 1, 5, 6, 6, 2, 2, 1, 3,\n",
       "       2, 0, 5, 4, 0, 3, 5, 2, 1, 0, 2, 4, 2, 2, 3, 5, 4, 3, 2, 4, 4, 2,\n",
       "       5, 5, 4, 4, 3, 0, 0, 5, 4, 3, 1, 6, 7, 4, 2, 5, 6, 7, 5, 1, 7, 9,\n",
       "       5, 3, 1, 4, 4, 3, 1, 4, 5, 4, 4, 5, 5, 7, 3, 2, 2, 3, 7, 3, 1, 6,\n",
       "       0, 2], dtype=int64)"
      ]
     },
     "execution_count": 37,
     "metadata": {},
     "output_type": "execute_result"
    }
   ],
   "source": [
    "another_sample"
   ]
  },
  {
   "cell_type": "code",
   "execution_count": 85,
   "metadata": {
    "cell_style": "split",
    "slideshow": {
     "slide_type": "fragment"
    }
   },
   "outputs": [],
   "source": [
    "# get the sample mean and sample standard \n",
    "# deviation\n",
    "Xbar = another_sample.mean()\n",
    "sigma = another_sample.std()"
   ]
  },
  {
   "cell_type": "code",
   "execution_count": 86,
   "metadata": {
    "cell_style": "split",
    "slideshow": {
     "slide_type": "subslide"
    }
   },
   "outputs": [
    {
     "data": {
      "text/plain": [
       "200"
      ]
     },
     "execution_count": 86,
     "metadata": {},
     "output_type": "execute_result"
    }
   ],
   "source": [
    "# get the number of trials\n",
    "N2 = len(another_sample)\n",
    "N2"
   ]
  },
  {
   "cell_type": "markdown",
   "metadata": {
    "slideshow": {
     "slide_type": "slide"
    }
   },
   "source": [
    "#### Use the .interval method and the defined Xbar, sigma, N2 to calculate  the confidence interval at 99.5%"
   ]
  },
  {
   "cell_type": "code",
   "execution_count": 87,
   "metadata": {
    "slideshow": {
     "slide_type": "-"
    }
   },
   "outputs": [
    {
     "data": {
      "text/plain": [
       "(3.137885956321386, 3.8921140436786157)"
      ]
     },
     "execution_count": 87,
     "metadata": {},
     "output_type": "execute_result"
    }
   ],
   "source": [
    "c = .995\n",
    "norm.interval(c, loc = Xbar, scale = sigma/np.sqrt(N2))"
   ]
  },
  {
   "cell_type": "markdown",
   "metadata": {
    "slideshow": {
     "slide_type": "slide"
    }
   },
   "source": [
    "#### Calculate z* for the 99.5 percent confidence interval"
   ]
  },
  {
   "cell_type": "code",
   "execution_count": 88,
   "metadata": {
    "slideshow": {
     "slide_type": "fragment"
    }
   },
   "outputs": [
    {
     "data": {
      "text/plain": [
       "2.807033768343804"
      ]
     },
     "execution_count": 88,
     "metadata": {},
     "output_type": "execute_result"
    }
   ],
   "source": [
    "z_star = np.abs(norm.ppf((1-c)/2))\n",
    "z_star"
   ]
  },
  {
   "cell_type": "code",
   "execution_count": 89,
   "metadata": {
    "slideshow": {
     "slide_type": "fragment"
    }
   },
   "outputs": [
    {
     "data": {
      "text/plain": [
       "(3.137885956321386, 3.8921140436786144)"
      ]
     },
     "execution_count": 89,
     "metadata": {},
     "output_type": "execute_result"
    }
   ],
   "source": [
    "# Output the confidence interval as a tuple using z* and other statistics:\n",
    "\n",
    "(Xbar -  z_star*(sigma/np.sqrt(N2)), Xbar + z_star*(sigma/np.sqrt(N2)))"
   ]
  },
  {
   "cell_type": "markdown",
   "metadata": {
    "cell_style": "center",
    "slideshow": {
     "slide_type": "slide"
    }
   },
   "source": [
    "**Statistics, probability**\n",
    "\n",
    "- Enabled us to start quantifying uncertainty in data in a principled way.\n",
    "- This is the *essence* of the scientific method!\n",
    "\n",
    "If I measure a thing, how certain am I that it is the value I say?\n",
    "\n",
    "Could it be other values?\n",
    "\n",
    "Range of values it could be quantifying my confidence."
   ]
  }
 ],
 "metadata": {
  "celltoolbar": "Slideshow",
  "kernelspec": {
   "display_name": "Python 3 (ipykernel)",
   "language": "python",
   "name": "python3"
  },
  "language_info": {
   "codemirror_mode": {
    "name": "ipython",
    "version": 3
   },
   "file_extension": ".py",
   "mimetype": "text/x-python",
   "name": "python",
   "nbconvert_exporter": "python",
   "pygments_lexer": "ipython3",
   "version": "3.11.7"
  }
 },
 "nbformat": 4,
 "nbformat_minor": 4
}
